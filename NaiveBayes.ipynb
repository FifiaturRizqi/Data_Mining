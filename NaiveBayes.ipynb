{
 "cells": [
  {
   "cell_type": "code",
   "execution_count": 1,
   "id": "f8bb62ec-f153-463c-8e33-14a57ca76a08",
   "metadata": {},
   "outputs": [],
   "source": [
    "import pandas as pd\n",
    "from sklearn.model_selection import train_test_split\n",
    "from sklearn.preprocessing import StandardScaler, OneHotEncoder\n",
    "from sklearn.compose import ColumnTransformer\n",
    "from sklearn.pipeline import Pipeline\n",
    "from sklearn.naive_bayes import GaussianNB\n",
    "from sklearn.metrics import accuracy_score, f1_score"
   ]
  },
  {
   "cell_type": "code",
   "execution_count": 3,
   "id": "f77e77df-e6bc-44f1-aae5-9913e3b0615e",
   "metadata": {},
   "outputs": [
    {
     "name": "stdout",
     "output_type": "stream",
     "text": [
      "   NO    NAMA   USIA  PARITAS JARAK KELAHIRAN RIW HIPERTENSI RIW PE OBESITAS  \\\n",
      "0   1  NAMA 1  23 TH        3       < 2 tahun          Tidak  Tidak    Tidak   \n",
      "1   2  NAMA 2  29 TH        2       < 2 tahun          Tidak    PEB    Tidak   \n",
      "2   3  NAMA 3  20 TH        1    anak pertama          Tidak  Tidak    Tidak   \n",
      "3   4  NAMA 4  18 TH        1    anak pertama          Tidak  Tidak    Tidak   \n",
      "4   5  NAMA 5  34 TH        3      > 2 tahun           Tidak  Tidak    Tidak   \n",
      "\n",
      "  RIW DM RIW HIPERTENSI/PE DALAM KELUARGA SOSEK RENDAH PE/Non PE Unnamed: 12  \n",
      "0     Ya                            Tidak         >UMR    Non PE         NaN  \n",
      "1  Tidak                              Ada         >UMR        PE         NaN  \n",
      "2  Tidak                            Tidak         >UMR    Non PE         NaN  \n",
      "3  Tidak                            Tidak         >UMR    Non PE         NaN  \n",
      "4  Tidak                            Tidak         >UMR    Non PE         NaN  \n"
     ]
    }
   ],
   "source": [
    "#load data\n",
    "file_path = 'dataKasus-1.xlsx'\n",
    "data = pd.read_excel(file_path)\n",
    "\n",
    "print(data.head())"
   ]
  },
  {
   "cell_type": "code",
   "execution_count": 5,
   "id": "451e613b-c465-4318-b551-1c51b47ebf81",
   "metadata": {},
   "outputs": [
    {
     "name": "stdout",
     "output_type": "stream",
     "text": [
      "Index(['NO', 'NAMA', 'USIA', 'PARITAS', 'JARAK KELAHIRAN', 'RIW HIPERTENSI',\n",
      "       'RIW PE', 'OBESITAS', 'RIW DM', 'RIW HIPERTENSI/PE DALAM KELUARGA',\n",
      "       'SOSEK RENDAH', 'PE/Non PE', 'Unnamed: 12'],\n",
      "      dtype='object')\n"
     ]
    }
   ],
   "source": [
    "print(data.columns)"
   ]
  },
  {
   "cell_type": "code",
   "execution_count": 7,
   "id": "ed4634ef-a16a-4fc1-98f8-7874a678dd25",
   "metadata": {},
   "outputs": [],
   "source": [
    "# Pisahkan fitur (X) dan target (y)\n",
    "X = data.drop(columns=['PE/Non PE'])\n",
    "y = data['PE/Non PE']"
   ]
  },
  {
   "cell_type": "code",
   "execution_count": 9,
   "id": "3adcb09d-ec0d-41e3-8bc5-6c4f446e0df4",
   "metadata": {},
   "outputs": [],
   "source": [
    "# Mengubah tipe data kolom kategorikal menjadi string\n",
    "categorical_features = X.select_dtypes(include=['object']).columns\n",
    "for col in categorical_features:\n",
    "    X[col] = X[col].astype(str)"
   ]
  },
  {
   "cell_type": "code",
   "execution_count": 11,
   "id": "0e266076-cbbf-4b73-9b46-faa2ce9a5b73",
   "metadata": {},
   "outputs": [],
   "source": [
    "# Memisahkan dataset menjadi data latih dan data uji\n",
    "X_train, X_test, y_train, y_test = train_test_split(X, y, test_size=0.2, random_state=42)"
   ]
  },
  {
   "cell_type": "code",
   "execution_count": 13,
   "id": "b1242473-3be2-4f51-b913-3cc1028416f8",
   "metadata": {},
   "outputs": [],
   "source": [
    "# Memastikan kolom numerik dan kategorikal\n",
    "numerical_features = X.select_dtypes(include=['int64', 'float64']).columns\n",
    "categorical_features = X.select_dtypes(include=['object']).columns"
   ]
  },
  {
   "cell_type": "code",
   "execution_count": 15,
   "id": "2dec2d87-7362-41c2-9906-e4bceb9d2960",
   "metadata": {},
   "outputs": [],
   "source": [
    "# Menggunakan OneHotEncoder untuk kolom kategorikal\n",
    "preprocessor = ColumnTransformer(\n",
    "    transformers=[\n",
    "        ('num', StandardScaler(), numerical_features),\n",
    "        ('cat', OneHotEncoder(handle_unknown='ignore', sparse_output=False), categorical_features)  # Perbaiki di sini\n",
    "    ]\n",
    ")"
   ]
  },
  {
   "cell_type": "code",
   "execution_count": 17,
   "id": "3d9ebf2f-6d49-498f-8c58-6f438f60ad2e",
   "metadata": {},
   "outputs": [],
   "source": [
    "# Membangun fungsi untuk pipeline model\n",
    "def create_pipeline(model):\n",
    "    return Pipeline(steps=[\n",
    "        ('preprocessor', preprocessor),\n",
    "        ('classifier', model)\n",
    "    ])"
   ]
  },
  {
   "cell_type": "code",
   "execution_count": 19,
   "id": "dead8cff-3693-45ba-81ba-8f29913e0c47",
   "metadata": {},
   "outputs": [],
   "source": [
    "# Fungsi untuk pelatihan dan evaluasi\n",
    "def train_and_evaluate(model):\n",
    "    pipeline = create_pipeline(model)\n",
    "    pipeline.fit(X_train, y_train)\n",
    "    y_pred = pipeline.predict(X_test)\n",
    "    accuracy = accuracy_score(y_test, y_pred)\n",
    "    f1 = f1_score(y_test, y_pred, average='weighted')\n",
    "    return accuracy, f1"
   ]
  },
  {
   "cell_type": "code",
   "execution_count": 21,
   "id": "969dc990-4876-4e12-917e-a47592364e7e",
   "metadata": {},
   "outputs": [
    {
     "name": "stdout",
     "output_type": "stream",
     "text": [
      "Naive Bayes Accuracy: 0.4513\n",
      "Naive Bayes F1 Score: 0.5708\n"
     ]
    }
   ],
   "source": [
    "# Model Naive Bayes\n",
    "nb_model = GaussianNB()\n",
    "nb_accuracy, nb_f1 = train_and_evaluate(nb_model)\n",
    "\n",
    "print(f'Naive Bayes Accuracy: {nb_accuracy:.4f}')\n",
    "print(f'Naive Bayes F1 Score: {nb_f1:.4f}')"
   ]
  },
  {
   "cell_type": "code",
   "execution_count": null,
   "id": "dd9e3498-40d0-4eea-952e-947b00200320",
   "metadata": {},
   "outputs": [],
   "source": []
  }
 ],
 "metadata": {
  "kernelspec": {
   "display_name": "Python 3 (ipykernel)",
   "language": "python",
   "name": "python3"
  },
  "language_info": {
   "codemirror_mode": {
    "name": "ipython",
    "version": 3
   },
   "file_extension": ".py",
   "mimetype": "text/x-python",
   "name": "python",
   "nbconvert_exporter": "python",
   "pygments_lexer": "ipython3",
   "version": "3.12.4"
  }
 },
 "nbformat": 4,
 "nbformat_minor": 5
}
