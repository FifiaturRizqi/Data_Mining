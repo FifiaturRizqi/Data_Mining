{
  "nbformat": 4,
  "nbformat_minor": 0,
  "metadata": {
    "colab": {
      "provenance": []
    },
    "kernelspec": {
      "name": "python3",
      "display_name": "Python 3"
    },
    "language_info": {
      "name": "python"
    }
  },
  "cells": [
    {
      "cell_type": "code",
      "source": [
        "# Import library yang dibutuhkan\n",
        "import pandas as pd\n",
        "import seaborn as sns\n",
        "import matplotlib.pyplot as plt\n",
        "from sklearn.model_selection import train_test_split\n",
        "from sklearn.linear_model import LinearRegression\n",
        "from sklearn.metrics import mean_squared_error\n"
      ],
      "metadata": {
        "id": "AJaadn4YYddy"
      },
      "execution_count": null,
      "outputs": []
    },
    {
      "cell_type": "code",
      "source": [
        "# Dataset contoh\n",
        "data_produk = {\n",
        "    'Produk': ['Produk A', 'Produk B', 'Produk C', 'Produk D'],\n",
        "    'Harga': [10000, 15000, 20000, 25000],\n",
        "    'Stok': [50, 30, 20, 10],\n",
        "    'Penjualan_Terakhir': [500, 700, 800, 600]\n",
        "}\n",
        "\n",
        "# Membuat DataFrame\n",
        "produk_df = pd.DataFrame(data_produk)\n",
        "# Menampilkan dataset\n",
        "print(\"Data Produk:\")\n",
        "print(produk_df)\n"
      ],
      "metadata": {
        "colab": {
          "base_uri": "https://localhost:8080/"
        },
        "id": "CRVFeKvLYevh",
        "outputId": "aa108f3c-2c47-4a73-ed10-5f21be526ebd"
      },
      "execution_count": 3,
      "outputs": [
        {
          "output_type": "stream",
          "name": "stdout",
          "text": [
            "Data Produk:\n",
            "     Produk  Harga  Stok  Penjualan_Terakhir\n",
            "0  Produk A  10000    50                 500\n",
            "1  Produk B  15000    30                 700\n",
            "2  Produk C  20000    20                 800\n",
            "3  Produk D  25000    10                 600\n"
          ]
        }
      ]
    },
    {
      "cell_type": "code",
      "source": [
        "# Visualisasi stok barang\n",
        "sns.barplot(x='Produk', y='Stok', data=produk_df)\n",
        "plt.title('Stok Barang per Produk')\n",
        "plt.xlabel('Produk')\n",
        "plt.ylabel('Stok')\n",
        "plt.show()\n"
      ],
      "metadata": {
        "colab": {
          "base_uri": "https://localhost:8080/",
          "height": 472
        },
        "id": "B7umBUjtYkjG",
        "outputId": "c60801ab-e791-4d1d-e56a-4bfa4690f9bf"
      },
      "execution_count": 5,
      "outputs": [
        {
          "output_type": "display_data",
          "data": {
            "text/plain": [
              "<Figure size 640x480 with 1 Axes>"
            ],
            "image/png": "[encoded data removed]"
          },
          "metadata": {}
        }
      ]
    },
    {
      "cell_type": "code",
      "source": [
        "# Menyiapkan data untuk pelatihan\n",
        "X = produk_df[['Harga', 'Stok']]  # Fitur\n",
        "y = produk_df['Penjualan_Terakhir']  # Target\n",
        "\n",
        "# Membagi data menjadi set pelatihan dan pengujian\n",
        "X_train, X_test, y_train, y_test = train_test_split(X, y, test_size=0.25, random_state=42)\n",
        "\n",
        "# Membuat model Linear Regression\n",
        "model = LinearRegression()\n",
        "model.fit(X_train, y_train)\n",
        "\n",
        "# Prediksi pada data uji\n",
        "y_pred = model.predict(X_test)\n",
        "\n",
        "# Menampilkan hasil prediksi dan nilai aktual\n",
        "print(\"\\nHasil Prediksi vs Aktual:\")\n",
        "for actual, pred in zip(y_test, y_pred):\n",
        "    print(f\"Penjualan Aktual: {actual}, Prediksi: {pred:.2f}\")\n"
      ],
      "metadata": {
        "colab": {
          "base_uri": "https://localhost:8080/"
        },
        "id": "5c336Ix3Yqvb",
        "outputId": "a201f0ca-1f3d-4f3f-b041-3bac2f7f0838"
      },
      "execution_count": 4,
      "outputs": [
        {
          "output_type": "stream",
          "name": "stdout",
          "text": [
            "\n",
            "Hasil Prediksi vs Aktual:\n",
            "Penjualan Aktual: 700, Prediksi: 1000.00\n"
          ]
        }
      ]
    },
    {
      "cell_type": "code",
      "source": [
        "# Menghitung Mean Squared Error (MSE)\n",
        "mse = mean_squared_error(y_test, y_pred)\n",
        "print(f\"\\nMean Squared Error (MSE): {mse:.2f}\")\n"
      ],
      "metadata": {
        "colab": {
          "base_uri": "https://localhost:8080/"
        },
        "id": "Z45NuHpkY3pm",
        "outputId": "7cee2948-a670-455e-9e3c-2155adeb3b3f"
      },
      "execution_count": 6,
      "outputs": [
        {
          "output_type": "stream",
          "name": "stdout",
          "text": [
            "\n",
            "Mean Squared Error (MSE): 90000.00\n"
          ]
        }
      ]
    }
  ]
}