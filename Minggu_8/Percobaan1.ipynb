{
 "cells": [
  {
   "cell_type": "markdown",
   "id": "f8ede775-ddf5-47ee-999e-b477f22f8dca",
   "metadata": {},
   "source": [
    "## Data BPS"
   ]
  },
  {
   "cell_type": "code",
   "execution_count": 2,
   "id": "95fbe502-467b-4fcb-a51f-62edf04e88f1",
   "metadata": {},
   "outputs": [],
   "source": [
    "# Import library \n",
    "import pandas as pd\n",
    "import numpy as np\n",
    "import matplotlib.pyplot as plt\n",
    "import seaborn as sns\n",
    "from sklearn.model_selection import train_test_split, GridSearchCV, cross_val_score\n",
    "from sklearn.ensemble import RandomForestRegressor\n",
    "from sklearn.linear_model import LinearRegression\n",
    "from sklearn.metrics import mean_squared_error, r2_score"
   ]
  },
  {
   "cell_type": "code",
   "execution_count": 4,
   "id": "68e1c868-5734-4052-8969-7d399aa8d874",
   "metadata": {},
   "outputs": [
    {
     "name": "stdout",
     "output_type": "stream",
     "text": [
      "      38 Provinsi                                         Unnamed: 1  \\\n",
      "0             NaN  Luas Panen, Produksi, dan Produktivitas Padi M...   \n",
      "1             NaN                                    Luas Panen (ha)   \n",
      "2             NaN                                               2024   \n",
      "3            ACEH                                          301081.97   \n",
      "4  SUMATERA UTARA                                          419089.12   \n",
      "\n",
      "              Unnamed: 2      Unnamed: 3  \n",
      "0                    NaN             NaN  \n",
      "1  Produktivitas (ku/ha)  Produksi (ton)  \n",
      "2                   2024            2024  \n",
      "3                  54.58      1643355.07  \n",
      "4                   51.4      2154117.08  \n",
      "<class 'pandas.core.frame.DataFrame'>\n",
      "RangeIndex: 42 entries, 0 to 41\n",
      "Data columns (total 4 columns):\n",
      " #   Column       Non-Null Count  Dtype \n",
      "---  ------       --------------  ----- \n",
      " 0   38 Provinsi  39 non-null     object\n",
      " 1   Unnamed: 1   42 non-null     object\n",
      " 2   Unnamed: 2   41 non-null     object\n",
      " 3   Unnamed: 3   41 non-null     object\n",
      "dtypes: object(4)\n",
      "memory usage: 1.4+ KB\n",
      "None\n",
      "       38 Provinsi                                         Unnamed: 1  \\\n",
      "count           39                                                 42   \n",
      "unique          39                                                 42   \n",
      "top           ACEH  Luas Panen, Produksi, dan Produktivitas Padi M...   \n",
      "freq             1                                                  1   \n",
      "\n",
      "                   Unnamed: 2      Unnamed: 3  \n",
      "count                      41              41  \n",
      "unique                     41              41  \n",
      "top     Produktivitas (ku/ha)  Produksi (ton)  \n",
      "freq                        1               1  \n"
     ]
    }
   ],
   "source": [
    "# Memuat dataset\n",
    "file_path = 'datasetbps.csv'  # Gunakan nama file di folder yang sama\n",
    "data = pd.read_csv(file_path)\n",
    "\n",
    "# Menampilkan informasi awal dataset\n",
    "print(data.head())  # 5 data pertama\n",
    "print(data.info())  # Info dataset\n",
    "print(data.describe())  # Statistik deskriptif"
   ]
  },
  {
   "cell_type": "markdown",
   "id": "e4da544b-c129-4953-940c-ec8fffa98434",
   "metadata": {},
   "source": [
    "## Preprocessing Data"
   ]
  },
  {
   "cell_type": "code",
   "execution_count": 7,
   "id": "97fb7ded-37d3-4cce-82ec-7d2def31c607",
   "metadata": {},
   "outputs": [],
   "source": [
    "# Mengatur ulang header dan membersihkan data\n",
    "data_cleaned = data.rename(columns={\n",
    "    \"38 Provinsi\": \"Provinsi\",\n",
    "    \"Unnamed: 1\": \"Luas Panen (ha)\",\n",
    "    \"Unnamed: 2\": \"Produktivitas (ku/ha)\",\n",
    "    \"Unnamed: 3\": \"Produksi (ton)\"\n",
    "})"
   ]
  },
  {
   "cell_type": "code",
   "execution_count": 9,
   "id": "e07f7120-7bee-4054-9e77-23dedf848fe1",
   "metadata": {},
   "outputs": [],
   "source": [
    "# Menghapus baris yang tidak relevan\n",
    "data_cleaned = data_cleaned.dropna(subset=[\"Provinsi\"]).reset_index(drop=True)\n",
    "data_cleaned = data_cleaned[~data_cleaned[\"Provinsi\"].str.contains(\"Luas Panen|Produktivitas|Produksi\", na=False)]"
   ]
  },
  {
   "cell_type": "code",
   "execution_count": 11,
   "id": "25387e8d-e0eb-474b-b3e1-e16c21d0dad4",
   "metadata": {},
   "outputs": [],
   "source": [
    "# Mengkonversi data numerik\n",
    "for col in [\"Luas Panen (ha)\", \"Produktivitas (ku/ha)\", \"Produksi (ton)\"]:\n",
    "    data_cleaned[col] = pd.to_numeric(data_cleaned[col], errors='coerce')"
   ]
  },
  {
   "cell_type": "code",
   "execution_count": 13,
   "id": "e95c3e77-6808-4d62-808d-609e4196646f",
   "metadata": {},
   "outputs": [
    {
     "name": "stdout",
     "output_type": "stream",
     "text": [
      "         Provinsi  Luas Panen (ha)  Produktivitas (ku/ha)  Produksi (ton)\n",
      "0            ACEH        301081.97                  54.58      1643355.07\n",
      "1  SUMATERA UTARA        419089.12                  51.40      2154117.08\n",
      "2  SUMATERA BARAT        296215.93                  45.64      1352048.77\n",
      "3            RIAU         57003.35                  39.62       225836.50\n",
      "4           JAMBI         64119.24                  45.44       291367.31\n"
     ]
    }
   ],
   "source": [
    "# Menampilkan data bersih\n",
    "print(data_cleaned.head())"
   ]
  },
  {
   "cell_type": "markdown",
   "id": "287578e6-8f35-4b5c-8a1a-a8d67a6b88a1",
   "metadata": {},
   "source": [
    "## Split Data"
   ]
  },
  {
   "cell_type": "code",
   "execution_count": 16,
   "id": "49b6019d-d5e1-4edc-a394-56ee8b42ba38",
   "metadata": {},
   "outputs": [],
   "source": [
    "# Fitur dan target\n",
    "X = data_cleaned[[\"Luas Panen (ha)\", \"Produktivitas (ku/ha)\"]]\n",
    "y = data_cleaned[\"Produksi (ton)\"]\n",
    "\n",
    "# Split data\n",
    "X_train, X_test, y_train, y_test = train_test_split(X, y, test_size=0.2, random_state=42)"
   ]
  },
  {
   "cell_type": "markdown",
   "id": "19a6b924-9e8e-4791-8384-43debb796d1c",
   "metadata": {},
   "source": [
    "## Model Random Forest"
   ]
  },
  {
   "cell_type": "code",
   "execution_count": 19,
   "id": "7b836e1d-1dca-49a9-bd5e-b2c3d43a9c87",
   "metadata": {},
   "outputs": [
    {
     "name": "stdout",
     "output_type": "stream",
     "text": [
      "Mean Squared Error (MSE): 386544002892.04034\n",
      "R-squared (R²): 0.8325109461662874\n"
     ]
    }
   ],
   "source": [
    "# Melatih model Random Forest\n",
    "model = RandomForestRegressor(random_state=42)\n",
    "model.fit(X_train, y_train)\n",
    "\n",
    "# Prediksi\n",
    "y_pred = model.predict(X_test)\n",
    "\n",
    "# Evaluasi model\n",
    "mse = mean_squared_error(y_test, y_pred)\n",
    "r2 = r2_score(y_test, y_pred)\n",
    "\n",
    "print(f\"Mean Squared Error (MSE): {mse}\")\n",
    "print(f\"R-squared (R²): {r2}\")"
   ]
  },
  {
   "cell_type": "markdown",
   "id": "ce3b3fb7-49e4-4186-8a34-8d21eb5d6aa5",
   "metadata": {},
   "source": [
    "## Feature Importance"
   ]
  },
  {
   "cell_type": "code",
   "execution_count": 22,
   "id": "900e5669-a806-40f7-b639-fb39d551a495",
   "metadata": {},
   "outputs": [
    {
     "data": {
      "image/png": "[encoded data removed]",
      "text/plain": [
       "<Figure size 800x500 with 1 Axes>"
      ]
     },
     "metadata": {},
     "output_type": "display_data"
    }
   ],
   "source": [
    "# Mengekstrak pentingnya fitur\n",
    "feature_importances = model.feature_importances_\n",
    "\n",
    "# Visualisasi pentingnya fitur\n",
    "features = X.columns\n",
    "plt.figure(figsize=(8, 5))\n",
    "sns.barplot(x=feature_importances, y=features)\n",
    "plt.title('Feature Importance')\n",
    "plt.xlabel('Importance')\n",
    "plt.ylabel('Features')\n",
    "plt.show()"
   ]
  },
  {
   "cell_type": "markdown",
   "id": "7eed3daa-8227-43c5-a0fa-7c34f92dcf19",
   "metadata": {},
   "source": [
    "## Hyperparameter Tuning"
   ]
  },
  {
   "cell_type": "code",
   "execution_count": 25,
   "id": "6094d07d-9196-49f1-86d5-9b195d9ae001",
   "metadata": {},
   "outputs": [],
   "source": [
    "# Parameter yang akan di-tuning\n",
    "param_grid = {\n",
    "    'n_estimators': [100, 200, 300],\n",
    "    'max_depth': [None, 10, 20],\n",
    "    'min_samples_split': [2, 5],\n",
    "    'min_samples_leaf': [1, 2]\n",
    "}\n",
    "\n",
    "# Grid Search\n",
    "grid_search = GridSearchCV(\n",
    "    estimator=RandomForestRegressor(random_state=42),\n",
    "    param_grid=param_grid,\n",
    "    cv=3,\n",
    "    n_jobs=-1,\n",
    "    verbose=2\n",
    ")"
   ]
  },
  {
   "cell_type": "code",
   "execution_count": 27,
   "id": "f8070e70-87d1-4be4-adba-a7c857303843",
   "metadata": {},
   "outputs": [
    {
     "name": "stdout",
     "output_type": "stream",
     "text": [
      "Fitting 3 folds for each of 36 candidates, totalling 108 fits\n",
      "Best Parameters: {'max_depth': None, 'min_samples_leaf': 1, 'min_samples_split': 2, 'n_estimators': 300}\n"
     ]
    }
   ],
   "source": [
    "# Melatih model dengan GridSearchCV\n",
    "grid_search.fit(X_train, y_train)\n",
    "\n",
    "# Menampilkan parameter terbaik\n",
    "print(\"Best Parameters:\", grid_search.best_params_)\n",
    "best_model = grid_search.best_estimator_\n",
    "\n",
    "# Evaluasi model terbaik\n",
    "y_pred_best = best_model.predict(X_test)\n",
    "mse_best = mean_squared_error(y_test, y_pred_best)\n",
    "r2_best = r2_score(y_test, y_pred_best)"
   ]
  },
  {
   "cell_type": "code",
   "execution_count": 29,
   "id": "359239de-8123-43cb-828c-2200239cd3ca",
   "metadata": {},
   "outputs": [
    {
     "name": "stdout",
     "output_type": "stream",
     "text": [
      "Tuned Model MSE: 403289783504.9614\n",
      "Tuned Model R²: 0.8252550194682126\n"
     ]
    }
   ],
   "source": [
    "print(f\"Tuned Model MSE: {mse_best}\")\n",
    "print(f\"Tuned Model R²: {r2_best}\")"
   ]
  },
  {
   "cell_type": "markdown",
   "id": "2ab35671-0d30-49f0-b43d-9f135ef4d379",
   "metadata": {},
   "source": [
    "## Residual Analysis"
   ]
  },
  {
   "cell_type": "code",
   "execution_count": 32,
   "id": "85850570-e708-425d-b2a8-5af46d591a71",
   "metadata": {},
   "outputs": [
    {
     "data": {
      "image/png": "[encoded data removed]",
      "text/plain": [
       "<Figure size 800x500 with 1 Axes>"
      ]
     },
     "metadata": {},
     "output_type": "display_data"
    },
    {
     "data": {
      "image/png": "[encoded data removed]",
      "text/plain": [
       "<Figure size 800x500 with 1 Axes>"
      ]
     },
     "metadata": {},
     "output_type": "display_data"
    }
   ],
   "source": [
    "# Hitung residuals\n",
    "residuals = y_test - y_pred\n",
    "\n",
    "# Visualisasi residuals\n",
    "plt.figure(figsize=(8, 5))\n",
    "sns.histplot(residuals, kde=True, bins=30)\n",
    "plt.title('Distribution of Residuals')\n",
    "plt.xlabel('Residual')\n",
    "plt.ylabel('Frequency')\n",
    "plt.show()\n",
    "\n",
    "# Scatter plot prediksi vs nilai aktual\n",
    "plt.figure(figsize=(8, 5))\n",
    "plt.scatter(y_test, y_pred, alpha=0.6)\n",
    "plt.plot([y_test.min(), y_test.max()], [y_test.min(), y_test.max()], color='red', linestyle='--')\n",
    "plt.title('Predicted vs Actual')\n",
    "plt.xlabel('Actual')\n",
    "plt.ylabel('Predicted')\n",
    "plt.show()"
   ]
  },
  {
   "cell_type": "markdown",
   "id": "6b2d5819-36b6-4de7-9df0-fd20704e3ed9",
   "metadata": {},
   "source": [
    "## Model Alternatif: Linear Regression"
   ]
  },
  {
   "cell_type": "code",
   "execution_count": 35,
   "id": "271d547f-7436-4bcd-beb0-5484a9908c83",
   "metadata": {},
   "outputs": [
    {
     "name": "stdout",
     "output_type": "stream",
     "text": [
      "Linear Regression MSE: 19047032107.170174\n",
      "Linear Regression R²: 0.9917469437836259\n"
     ]
    }
   ],
   "source": [
    "# Model Linear Regression\n",
    "linear_model = LinearRegression()\n",
    "linear_model.fit(X_train, y_train)\n",
    "\n",
    "# Prediksi\n",
    "y_pred_lr = linear_model.predict(X_test)\n",
    "\n",
    "# Evaluasi Linear Regression\n",
    "mse_lr = mean_squared_error(y_test, y_pred_lr)\n",
    "r2_lr = r2_score(y_test, y_pred_lr)\n",
    "\n",
    "print(f\"Linear Regression MSE: {mse_lr}\")\n",
    "print(f\"Linear Regression R²: {r2_lr}\")"
   ]
  },
  {
   "cell_type": "markdown",
   "id": "6320e214-2bd7-4104-a811-f033219962fc",
   "metadata": {},
   "source": [
    "##  Cross-Validation"
   ]
  },
  {
   "cell_type": "code",
   "execution_count": 38,
   "id": "25b5d375-86d1-4c2b-8b34-a88cea001b7a",
   "metadata": {},
   "outputs": [
    {
     "name": "stdout",
     "output_type": "stream",
     "text": [
      "Cross-Validation R² Scores: [ 0.62774108  0.59148201 -3.39669187  0.83118643  0.11329402]\n",
      "Mean R²: -0.24659766395468335\n"
     ]
    }
   ],
   "source": [
    "# Cross-validation\n",
    "cv_scores = cross_val_score(model, X, y, cv=5, scoring='r2')\n",
    "\n",
    "print(\"Cross-Validation R² Scores:\", cv_scores)\n",
    "print(\"Mean R²:\", cv_scores.mean())"
   ]
  }
 ],
 "metadata": {
  "kernelspec": {
   "display_name": "Python 3 (ipykernel)",
   "language": "python",
   "name": "python3"
  },
  "language_info": {
   "codemirror_mode": {
    "name": "ipython",
    "version": 3
   },
   "file_extension": ".py",
   "mimetype": "text/x-python",
   "name": "python",
   "nbconvert_exporter": "python",
   "pygments_lexer": "ipython3",
   "version": "3.12.4"
  }
 },
 "nbformat": 4,
 "nbformat_minor": 5
}
